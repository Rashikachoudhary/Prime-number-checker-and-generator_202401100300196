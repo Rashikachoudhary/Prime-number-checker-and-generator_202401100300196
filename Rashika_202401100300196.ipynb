{
  "nbformat": 4,
  "nbformat_minor": 0,
  "metadata": {
    "colab": {
      "provenance": []
    },
    "kernelspec": {
      "name": "python3",
      "display_name": "Python 3"
    },
    "language_info": {
      "name": "python"
    }
  },
  "cells": [
    {
      "cell_type": "code",
      "source": [
        "import random\n",
        "\n",
        "# Function to check if a number is prime\n",
        "def is_prime(n):\n",
        "    # A number less than or equal to 1 is not prime\n",
        "    if n <= 1:\n",
        "        return False\n",
        "    # 2 is the only even prime number\n",
        "    if n == 2:\n",
        "        return True\n",
        "    # Eliminate other even numbers greater than 2\n",
        "    if n % 2 == 0:\n",
        "        return False\n",
        "    # Check odd divisors from 3 to the square root of n\n",
        "    for i in range(3, int(n**0.5) + 1, 2):\n",
        "        if n % i == 0:\n",
        "            return False\n",
        "    return True\n",
        "\n",
        "# Function to generate a random prime number within a given range\n",
        "def generate_random_prime(start, end):\n",
        "    # Create a list of all prime numbers in the specified range\n",
        "    primes = [num for num in range(start, end + 1) if is_prime(num)]\n",
        "    # Return a random prime if the list is not empty, otherwise return None\n",
        "    return random.choice(primes) if primes else None\n",
        "\n",
        "# Main program loop\n",
        "while True:\n",
        "    # Display menu options\n",
        "    print(\"\\n1. Check Prime Number\")\n",
        "    print(\"2. Generate Random Prime Number\")\n",
        "    print(\"3. Exit\")\n",
        "\n",
        "    # Take user input for the choice\n",
        "    choice = input(\"Enter your choice: \")\n",
        "\n",
        "    # Option to check if a number is prime\n",
        "    if choice == '1':\n",
        "        num = int(input(\"Enter a number to check: \"))\n",
        "        if is_prime(num):\n",
        "            print(f\"{num} is a prime number.\")\n",
        "        else:\n",
        "            print(f\"{num} is not a prime number.\")\n",
        "\n",
        "    # Option to generate a random prime number in a given range\n",
        "    elif choice == '2':\n",
        "        start = int(input(\"Enter the start of the range: \"))\n",
        "        end = int(input(\"Enter the end of the range: \"))\n",
        "        # Call the function to get a random prime\n",
        "        prime = generate_random_prime(start, end)\n",
        "        if prime:\n",
        "            print(f\"Random prime number in range [{start}, {end}]: {prime}\")\n",
        "        else:\n",
        "            print(f\"No prime numbers found in range [{start}, {end}].\")\n",
        "\n",
        "    # Option to exit the program\n",
        "    elif choice == '3':\n",
        "        print(\"Exiting program. Goodbye!\")\n",
        "        break\n",
        "\n",
        "    # Handle invalid input\n",
        "    else:\n",
        "        print(\"Invalid choice! Please try again.\")"
      ],
      "metadata": {
        "colab": {
          "base_uri": "https://localhost:8080/"
        },
        "id": "IBqTsWaUirv1",
        "outputId": "ecdd1214-e1d4-47b4-fdc3-1d02927251cc"
      },
      "execution_count": 3,
      "outputs": [
        {
          "output_type": "stream",
          "name": "stdout",
          "text": [
            "\n",
            "1. Check Prime Number\n",
            "2. Generate Random Prime Number\n",
            "3. Exit\n",
            "Enter your choice: 1\n",
            "Enter a number to check: 467\n",
            "467 is a prime number.\n",
            "\n",
            "1. Check Prime Number\n",
            "2. Generate Random Prime Number\n",
            "3. Exit\n",
            "Enter your choice: 2\n",
            "Enter the start of the range: 34\n",
            "Enter the end of the range: 45\n",
            "Random prime number in range [34, 45]: 41\n",
            "\n",
            "1. Check Prime Number\n",
            "2. Generate Random Prime Number\n",
            "3. Exit\n",
            "Enter your choice: 3\n",
            "Exiting program. Goodbye!\n"
          ]
        }
      ]
    }
  ]
}